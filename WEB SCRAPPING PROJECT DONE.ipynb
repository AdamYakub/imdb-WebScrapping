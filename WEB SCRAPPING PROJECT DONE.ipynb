{
 "cells": [
  {
   "cell_type": "code",
   "execution_count": 1,
   "id": "70f478a4",
   "metadata": {},
   "outputs": [],
   "source": [
    "from bs4 import BeautifulSoup\n",
    "import requests"
   ]
  },
  {
   "cell_type": "code",
   "execution_count": 2,
   "id": "b4ed9cf3",
   "metadata": {},
   "outputs": [],
   "source": [
    "url = 'https://www.imdb.com/chart/top/'"
   ]
  },
  {
   "cell_type": "code",
   "execution_count": 3,
   "id": "b7a4f7e0",
   "metadata": {},
   "outputs": [],
   "source": [
    "source = requests.get(url)"
   ]
  },
  {
   "cell_type": "code",
   "execution_count": 5,
   "id": "f62edbb7",
   "metadata": {},
   "outputs": [],
   "source": [
    "soup = BeautifulSoup(source.text,'html.parser')"
   ]
  },
  {
   "cell_type": "code",
   "execution_count": 7,
   "id": "18363807",
   "metadata": {},
   "outputs": [],
   "source": [
    "movies = soup.find('tbody',class_='lister-list').find_all('tr')"
   ]
  },
  {
   "cell_type": "code",
   "execution_count": 30,
   "id": "9a368069",
   "metadata": {},
   "outputs": [],
   "source": [
    "import csv"
   ]
  },
  {
   "cell_type": "code",
   "execution_count": 34,
   "id": "a685e0f1",
   "metadata": {
    "scrolled": false
   },
   "outputs": [],
   "source": [
    "file = open(\"movieslist.csv\",\"w\",encoding='UTF-8')\n",
    "writer = csv.writer(file)\n",
    "writer.writerow(['rank','name','year','rating'])\n",
    "\n",
    "\n",
    "for movie in movies:\n",
    "    name = movie.find('td',class_='titleColumn').a.text\n",
    "    rank = movie.find('td',class_='titleColumn').get_text(strip=True).split('.')[0]\n",
    "    year = movie.find('td',class_='titleColumn').get_text(strip=True).split('(')[1][:-1]\n",
    "    rating = movie.find('td',class_='ratingColumn').get_text(strip=True)\n",
    "    writer.writerow([rank,name,year,rating])\n",
    "    \n",
    "file.close()\n"
   ]
  },
  {
   "cell_type": "code",
   "execution_count": null,
   "id": "88e80ab5",
   "metadata": {},
   "outputs": [],
   "source": []
  }
 ],
 "metadata": {
  "kernelspec": {
   "display_name": "Python 3 (ipykernel)",
   "language": "python",
   "name": "python3"
  },
  "language_info": {
   "codemirror_mode": {
    "name": "ipython",
    "version": 3
   },
   "file_extension": ".py",
   "mimetype": "text/x-python",
   "name": "python",
   "nbconvert_exporter": "python",
   "pygments_lexer": "ipython3",
   "version": "3.9.13"
  }
 },
 "nbformat": 4,
 "nbformat_minor": 5
}
